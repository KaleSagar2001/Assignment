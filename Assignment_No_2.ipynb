{
  "cells": [
    {
      "cell_type": "code",
      "source": [
        ""
      ],
      "metadata": {
        "id": "12ouuR1o6sBG"
      },
      "execution_count": null,
      "outputs": []
    },
    {
      "cell_type": "code",
      "source": [
        "# Question 1\n",
        "def reverse_string(str):  \n",
        "    Rev = \"\"   \n",
        "    for i in str:  \n",
        "        Rev = i + Rev  \n",
        "    return Rev    \n",
        "     \n",
        "str = \"Sagar\"         \n",
        "print(\"The original string is: \",str)  \n",
        "print(\"The reverse string is\",reverse_string(str))\n",
        "\n"
      ],
      "metadata": {
        "colab": {
          "base_uri": "https://localhost:8080/"
        },
        "id": "gpqfFgZV6sDu",
        "outputId": "5c528622-d325-48b1-9cdd-b2a7d4cb7861"
      },
      "execution_count": null,
      "outputs": [
        {
          "output_type": "stream",
          "name": "stdout",
          "text": [
            "The original string is:  Sagar\n",
            "The reverse string is ragaS\n"
          ]
        }
      ]
    },
    {
      "cell_type": "code",
      "source": [
        "# Question 2\n",
        "Choice1=(int)(input(\"\\n\\t Enter your 1st number: \"))\n",
        "Choice2=(int)(input(\"\\n\\t Enter your 2st number: \"))\n",
        "Choice3=(int)(input(\"\\n\\t Enter your 3st number: \"))\n",
        "Choice4=(int)(input(\"\\n\\t Enter your 4st number: \"))\n",
        "print(\"Maximum number is: \",max(Choice1,Choice2,Choice3,Choice4))\n",
        "print(\"Minimum number is:\",min(Choice1,Choice2,Choice3,Choice4))\n"
      ],
      "metadata": {
        "colab": {
          "base_uri": "https://localhost:8080/"
        },
        "id": "gn0J2OPH6sGK",
        "outputId": "e26ac363-4877-4037-df1f-e71179124ece"
      },
      "execution_count": null,
      "outputs": [
        {
          "output_type": "stream",
          "name": "stdout",
          "text": [
            "\n",
            "\t Enter your 1st number: 10\n",
            "\n",
            "\t Enter your 2st number: 20\n",
            "\n",
            "\t Enter your 3st number: 3\n",
            "\n",
            "\t Enter your 4st number: 4\n",
            "Maximum number is:  20\n",
            "Minimum number is: 3\n"
          ]
        }
      ]
    },
    {
      "cell_type": "code",
      "source": [
        "# Question 3\n",
        "Choice1=(int)(input(\"\\n\\t Enter your 1st number: \"))\n",
        "Choice2=(int)(input(\"\\n\\t Enter your 2st number: \"))\n",
        "Choice3=(int)(input(\"\\n\\t Enter your 3st number: \"))\n",
        "Choice4=(int)(input(\"\\n\\t Enter your 4st number: \"))\n",
        "Choice=[Choice1,Choice2,Choice3,Choice4]\n",
        "print(\"Addition of number is: \",sum(Choice))"
      ],
      "metadata": {
        "colab": {
          "base_uri": "https://localhost:8080/"
        },
        "id": "q3EaGwcU6sIs",
        "outputId": "571436ca-9fc1-4633-a24c-3881c2686832"
      },
      "execution_count": null,
      "outputs": [
        {
          "output_type": "stream",
          "name": "stdout",
          "text": [
            "\n",
            "\t Enter your 1st number: 30\n",
            "\n",
            "\t Enter your 2st number: 33\n",
            "\n",
            "\t Enter your 3st number: 166\n",
            "\n",
            "\t Enter your 4st number: 122\n",
            "Addition of number is:  351\n"
          ]
        }
      ]
    },
    {
      "cell_type": "code",
      "source": [
        "\n",
        "# Question 4\n",
        "def P1():\n",
        "    P=12\n",
        "    Q=\"sagar\"\n",
        "    R=14+13\n",
        "print(P1.__code__.co_nlocals)"
      ],
      "metadata": {
        "colab": {
          "base_uri": "https://localhost:8080/"
        },
        "id": "thMe6ts06sLH",
        "outputId": "d737b6b0-9fdc-4dc7-c629-1604ccc16dab"
      },
      "execution_count": null,
      "outputs": [
        {
          "output_type": "stream",
          "name": "stdout",
          "text": [
            "3\n"
          ]
        }
      ]
    },
    {
      "cell_type": "code",
      "source": [
        "# Question 5\n",
        "Even=[22,32,43,54,76,77,67,65]\n",
        "\n",
        "for Num in Even:\n",
        "    if Num %2==0:\n",
        "        print(Num)"
      ],
      "metadata": {
        "colab": {
          "base_uri": "https://localhost:8080/"
        },
        "id": "8WKdDoeB6sNk",
        "outputId": "649c177a-773a-4e57-8e7c-a96837a50f48"
      },
      "execution_count": null,
      "outputs": [
        {
          "output_type": "stream",
          "name": "stdout",
          "text": [
            "22\n",
            "32\n",
            "54\n",
            "76\n"
          ]
        }
      ]
    }
  ],
  "metadata": {
    "colab": {
      "collapsed_sections": [],
      "name": "Assignment No 2",
      "toc_visible": true,
      "provenance": []
    },
    "kernelspec": {
      "display_name": "Python 3",
      "name": "python3"
    }
  },
  "nbformat": 4,
  "nbformat_minor": 0
}