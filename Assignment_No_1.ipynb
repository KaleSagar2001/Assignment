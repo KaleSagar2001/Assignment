{
  "cells": [
    {
      "cell_type": "code",
      "source": [
        "A=[\"Sagar \",\"Kale\",\"Male\",\"Student\"]\n",
        "B=[\"9150\",\"TYBSc\",\"B\"]\n",
        "\n"
      ],
      "metadata": {
        "id": "FRnW-jScxJZ0"
      },
      "execution_count": null,
      "outputs": []
    },
    {
      "cell_type": "code",
      "source": [
        "tuple(A)"
      ],
      "metadata": {
        "colab": {
          "base_uri": "https://localhost:8080/"
        },
        "id": "c9ADJaHgxpxv",
        "outputId": "cc52b247-ee99-4433-ff0f-2ee5071ea5c3"
      },
      "execution_count": null,
      "outputs": [
        {
          "output_type": "execute_result",
          "data": {
            "text/plain": [
              "('Sagar ', 'Kale', 'Male', 'Student')"
            ]
          },
          "metadata": {},
          "execution_count": 2
        }
      ]
    },
    {
      "cell_type": "code",
      "source": [
        "tuple(B)"
      ],
      "metadata": {
        "colab": {
          "base_uri": "https://localhost:8080/"
        },
        "id": "ggCtUVZRxson",
        "outputId": "7459a07b-2acf-4cbe-b6a8-697215d68057"
      },
      "execution_count": null,
      "outputs": [
        {
          "output_type": "execute_result",
          "data": {
            "text/plain": [
              "('9150', 'TYBSc', 'B')"
            ]
          },
          "metadata": {},
          "execution_count": 3
        }
      ]
    },
    {
      "cell_type": "code",
      "source": [
        "a=('Sagar', 'Kale', 'Male', 'Student')\n",
        "b=('9150', 'TYBSc', 'B')\n",
        "\n",
        "print(type(a))\n",
        "\n",
        "a\n",
        "print(a[:3])\n",
        "print(a[2:])\n",
        "print(a[3])\n",
        "print(a[:2])\n",
        "print(a[1:2])\n",
        "print(b,\"\\n\")"
      ],
      "metadata": {
        "colab": {
          "base_uri": "https://localhost:8080/"
        },
        "id": "4dd1j-hWxsrC",
        "outputId": "140f81b5-b965-499a-91dd-d5a5819aacb0"
      },
      "execution_count": null,
      "outputs": [
        {
          "output_type": "stream",
          "name": "stdout",
          "text": [
            "<class 'tuple'>\n",
            "('Sagar', 'Kale', 'Male')\n",
            "('Male', 'Student')\n",
            "Student\n",
            "('Sagar', 'Kale')\n",
            "('Kale',)\n",
            "('9150', 'TYBSc', 'B') \n",
            "\n"
          ]
        }
      ]
    },
    {
      "cell_type": "code",
      "source": [
        "for j in a:\n",
        "    print(j)"
      ],
      "metadata": {
        "colab": {
          "base_uri": "https://localhost:8080/"
        },
        "id": "4UXCKGxSxsth",
        "outputId": "3dcea805-502d-4f91-e04f-b12cffab73f3"
      },
      "execution_count": null,
      "outputs": [
        {
          "output_type": "stream",
          "name": "stdout",
          "text": [
            "Sagar\n",
            "Kale\n",
            "Male\n",
            "Student\n"
          ]
        }
      ]
    },
    {
      "cell_type": "code",
      "source": [
        "if \"TYBSc\" in b:\n",
        "    print(\"Sagar is in TYBSc\")\n"
      ],
      "metadata": {
        "colab": {
          "base_uri": "https://localhost:8080/"
        },
        "id": "WUfrUasZxsv0",
        "outputId": "1a4cfc3b-a246-492a-9296-ff604d691e68"
      },
      "execution_count": null,
      "outputs": [
        {
          "output_type": "stream",
          "name": "stdout",
          "text": [
            "Sagar is in TYBSc\n"
          ]
        }
      ]
    },
    {
      "cell_type": "code",
      "source": [
        "c=tuple(\"Pune\")\n",
        "a+b+c"
      ],
      "metadata": {
        "colab": {
          "base_uri": "https://localhost:8080/"
        },
        "id": "b4qeRpi-xsyk",
        "outputId": "555bc1c7-c143-4ea2-a315-d0aa759dc1ad"
      },
      "execution_count": null,
      "outputs": [
        {
          "output_type": "execute_result",
          "data": {
            "text/plain": [
              "('Sagar', 'Kale', 'Male', 'Student', '9150', 'TYBSc', 'B', 'P', 'u', 'n', 'e')"
            ]
          },
          "metadata": {},
          "execution_count": 7
        }
      ]
    },
    {
      "cell_type": "code",
      "source": [
        ""
      ],
      "metadata": {
        "id": "mCovCvWDxs1P"
      },
      "execution_count": null,
      "outputs": []
    },
    {
      "cell_type": "code",
      "source": [
        ""
      ],
      "metadata": {
        "id": "iuq5A6gkxs3r"
      },
      "execution_count": null,
      "outputs": []
    },
    {
      "cell_type": "code",
      "source": [
        ""
      ],
      "metadata": {
        "id": "bXuKejhYxs7M"
      },
      "execution_count": null,
      "outputs": []
    }
  ],
  "metadata": {
    "colab": {
      "collapsed_sections": [],
      "name": "Assignment No 1",
      "provenance": []
    },
    "kernelspec": {
      "display_name": "Python 3",
      "name": "python3"
    }
  },
  "nbformat": 4,
  "nbformat_minor": 0
}